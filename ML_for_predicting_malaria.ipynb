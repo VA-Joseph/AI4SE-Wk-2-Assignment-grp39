{
 "cells": [
  {
   "cell_type": "code",
   "execution_count": 1,
   "id": "6d732b26-0bb7-4ee5-8877-333060f26e6b",
   "metadata": {},
   "outputs": [],
   "source": [
    "import pandas as pd        #read,explore & clean data\n",
    "import numpy as np         # data manipulation\n",
    "import matplotlib.pyplot as plt   # data visualization\n",
    "import seaborn as sns             # data visualization"
   ]
  },
  {
   "cell_type": "code",
   "execution_count": 14,
   "id": "2879c639-621a-412b-9452-ebbd088ddb7c",
   "metadata": {},
   "outputs": [],
   "source": []
  },
  {
   "cell_type": "code",
   "execution_count": 16,
   "id": "ec80065e-0641-4e5c-9143-490218a355f1",
   "metadata": {},
   "outputs": [],
   "source": [
    "#read the data with pandas\n",
    "dataframe=pd.read_csv(\"malaria_africa_cleaned.csv\")"
   ]
  },
  {
   "cell_type": "code",
   "execution_count": 17,
   "id": "e879c487-31e0-43c7-971d-36766a013cca",
   "metadata": {},
   "outputs": [
    {
     "data": {
      "text/plain": [
       "(344, 14)"
      ]
     },
     "execution_count": 17,
     "metadata": {},
     "output_type": "execute_result"
    }
   ],
   "source": [
    "#Explore, clean and preprocess the data\n",
    "#find the number of rows and columns in the dataframe\n",
    "dataframe.shape"
   ]
  },
  {
   "cell_type": "code",
   "execution_count": 18,
   "id": "d9b32de2-e10a-4e8c-8142-5ea1c8fc1130",
   "metadata": {},
   "outputs": [
    {
     "data": {
      "text/html": [
       "<div>\n",
       "<style scoped>\n",
       "    .dataframe tbody tr th:only-of-type {\n",
       "        vertical-align: middle;\n",
       "    }\n",
       "\n",
       "    .dataframe tbody tr th {\n",
       "        vertical-align: top;\n",
       "    }\n",
       "\n",
       "    .dataframe thead th {\n",
       "        text-align: right;\n",
       "    }\n",
       "</style>\n",
       "<table border=\"1\" class=\"dataframe\">\n",
       "  <thead>\n",
       "    <tr style=\"text-align: right;\">\n",
       "      <th></th>\n",
       "      <th>Country</th>\n",
       "      <th>Year</th>\n",
       "      <th>No. of cases_estimated</th>\n",
       "      <th>No. of deaths_estimated</th>\n",
       "      <th>No. of cases_median</th>\n",
       "      <th>No. of cases_min</th>\n",
       "      <th>No. of cases_max</th>\n",
       "      <th>No. of deaths_median</th>\n",
       "      <th>No. of deaths_min</th>\n",
       "      <th>No. of deaths_max</th>\n",
       "      <th>WHO Region</th>\n",
       "      <th>No. of cases_reported</th>\n",
       "      <th>No. of deaths_reported</th>\n",
       "      <th>No. of cases</th>\n",
       "    </tr>\n",
       "  </thead>\n",
       "  <tbody>\n",
       "    <tr>\n",
       "      <th>0</th>\n",
       "      <td>Algeria</td>\n",
       "      <td>2017</td>\n",
       "      <td>0</td>\n",
       "      <td>0</td>\n",
       "      <td>0</td>\n",
       "      <td>0.0</td>\n",
       "      <td>0.0</td>\n",
       "      <td>0</td>\n",
       "      <td>0.0</td>\n",
       "      <td>0.0</td>\n",
       "      <td>Africa</td>\n",
       "      <td>0.0</td>\n",
       "      <td>0.0</td>\n",
       "      <td>0.00</td>\n",
       "    </tr>\n",
       "    <tr>\n",
       "      <th>1</th>\n",
       "      <td>Angola</td>\n",
       "      <td>2017</td>\n",
       "      <td>4615605[3106000-6661000]</td>\n",
       "      <td>13316[9970-16600]</td>\n",
       "      <td>4615605</td>\n",
       "      <td>3106000.0</td>\n",
       "      <td>6661000.0</td>\n",
       "      <td>13316</td>\n",
       "      <td>9970.0</td>\n",
       "      <td>16600.0</td>\n",
       "      <td>Africa</td>\n",
       "      <td>3874892.0</td>\n",
       "      <td>13967.0</td>\n",
       "      <td>228.91</td>\n",
       "    </tr>\n",
       "    <tr>\n",
       "      <th>2</th>\n",
       "      <td>Benin</td>\n",
       "      <td>2017</td>\n",
       "      <td>4111699[2774000-6552000]</td>\n",
       "      <td>7328[5740-8920]</td>\n",
       "      <td>4111699</td>\n",
       "      <td>2774000.0</td>\n",
       "      <td>6552000.0</td>\n",
       "      <td>7328</td>\n",
       "      <td>5740.0</td>\n",
       "      <td>8920.0</td>\n",
       "      <td>Africa</td>\n",
       "      <td>1573163.0</td>\n",
       "      <td>2182.0</td>\n",
       "      <td>399.56</td>\n",
       "    </tr>\n",
       "    <tr>\n",
       "      <th>3</th>\n",
       "      <td>Botswana</td>\n",
       "      <td>2017</td>\n",
       "      <td>2989[2300-4200]</td>\n",
       "      <td>7[0-20]</td>\n",
       "      <td>2989</td>\n",
       "      <td>2300.0</td>\n",
       "      <td>4200.0</td>\n",
       "      <td>7</td>\n",
       "      <td>0.0</td>\n",
       "      <td>20.0</td>\n",
       "      <td>Africa</td>\n",
       "      <td>1900.0</td>\n",
       "      <td>17.0</td>\n",
       "      <td>2.05</td>\n",
       "    </tr>\n",
       "    <tr>\n",
       "      <th>4</th>\n",
       "      <td>Burkina Faso</td>\n",
       "      <td>2017</td>\n",
       "      <td>7907562[5645000-11330000]</td>\n",
       "      <td>27791[25100-30500]</td>\n",
       "      <td>7907562</td>\n",
       "      <td>5645000.0</td>\n",
       "      <td>11330000.0</td>\n",
       "      <td>27791</td>\n",
       "      <td>25100.0</td>\n",
       "      <td>30500.0</td>\n",
       "      <td>Africa</td>\n",
       "      <td>10225459.0</td>\n",
       "      <td>4144.0</td>\n",
       "      <td>399.94</td>\n",
       "    </tr>\n",
       "  </tbody>\n",
       "</table>\n",
       "</div>"
      ],
      "text/plain": [
       "        Country  Year     No. of cases_estimated No. of deaths_estimated  \\\n",
       "0       Algeria  2017                          0                       0   \n",
       "1        Angola  2017   4615605[3106000-6661000]       13316[9970-16600]   \n",
       "2         Benin  2017   4111699[2774000-6552000]         7328[5740-8920]   \n",
       "3      Botswana  2017            2989[2300-4200]                 7[0-20]   \n",
       "4  Burkina Faso  2017  7907562[5645000-11330000]      27791[25100-30500]   \n",
       "\n",
       "   No. of cases_median  No. of cases_min  No. of cases_max  \\\n",
       "0                    0               0.0               0.0   \n",
       "1              4615605         3106000.0         6661000.0   \n",
       "2              4111699         2774000.0         6552000.0   \n",
       "3                 2989            2300.0            4200.0   \n",
       "4              7907562         5645000.0        11330000.0   \n",
       "\n",
       "   No. of deaths_median  No. of deaths_min  No. of deaths_max WHO Region  \\\n",
       "0                     0                0.0                0.0     Africa   \n",
       "1                 13316             9970.0            16600.0     Africa   \n",
       "2                  7328             5740.0             8920.0     Africa   \n",
       "3                     7                0.0               20.0     Africa   \n",
       "4                 27791            25100.0            30500.0     Africa   \n",
       "\n",
       "   No. of cases_reported  No. of deaths_reported  No. of cases  \n",
       "0                    0.0                     0.0          0.00  \n",
       "1              3874892.0                 13967.0        228.91  \n",
       "2              1573163.0                  2182.0        399.56  \n",
       "3                 1900.0                    17.0          2.05  \n",
       "4             10225459.0                  4144.0        399.94  "
      ]
     },
     "execution_count": 18,
     "metadata": {},
     "output_type": "execute_result"
    }
   ],
   "source": [
    "#get the first n rows in the dataframe\n",
    "dataframe.head(n=5)"
   ]
  },
  {
   "cell_type": "code",
   "execution_count": 19,
   "id": "a3fb3d10-f6f9-414c-93e2-b8878439484e",
   "metadata": {},
   "outputs": [
    {
     "data": {
      "text/plain": [
       "Index(['Country', 'Year', 'No. of cases_estimated', 'No. of deaths_estimated',\n",
       "       'No. of cases_median', 'No. of cases_min', 'No. of cases_max',\n",
       "       'No. of deaths_median', 'No. of deaths_min', 'No. of deaths_max',\n",
       "       'WHO Region', 'No. of cases_reported', 'No. of deaths_reported',\n",
       "       'No. of cases'],\n",
       "      dtype='object')"
      ]
     },
     "execution_count": 19,
     "metadata": {},
     "output_type": "execute_result"
    }
   ],
   "source": [
    "# list the column names\n",
    "dataframe.columns"
   ]
  },
  {
   "cell_type": "code",
   "execution_count": 20,
   "id": "718019f2-62fe-4259-8de8-5f820cde396e",
   "metadata": {},
   "outputs": [
    {
     "name": "stdout",
     "output_type": "stream",
     "text": [
      "<class 'pandas.core.frame.DataFrame'>\n",
      "RangeIndex: 344 entries, 0 to 343\n",
      "Data columns (total 14 columns):\n",
      " #   Column                   Non-Null Count  Dtype  \n",
      "---  ------                   --------------  -----  \n",
      " 0   Country                  344 non-null    object \n",
      " 1   Year                     344 non-null    int64  \n",
      " 2   No. of cases_estimated   344 non-null    object \n",
      " 3   No. of deaths_estimated  344 non-null    object \n",
      " 4   No. of cases_median      344 non-null    int64  \n",
      " 5   No. of cases_min         344 non-null    float64\n",
      " 6   No. of cases_max         344 non-null    float64\n",
      " 7   No. of deaths_median     344 non-null    int64  \n",
      " 8   No. of deaths_min        344 non-null    float64\n",
      " 9   No. of deaths_max        344 non-null    float64\n",
      " 10  WHO Region               344 non-null    object \n",
      " 11  No. of cases_reported    344 non-null    float64\n",
      " 12  No. of deaths_reported   344 non-null    float64\n",
      " 13  No. of cases             344 non-null    float64\n",
      "dtypes: float64(7), int64(3), object(4)\n",
      "memory usage: 37.8+ KB\n"
     ]
    }
   ],
   "source": [
    "#obtain some information about the data \n",
    "#i.e. columns,datatypes,missing values,etc\n",
    "dataframe.info()"
   ]
  },
  {
   "cell_type": "code",
   "execution_count": 22,
   "id": "955117c7-3698-48ce-83de-5a43d8e8581c",
   "metadata": {},
   "outputs": [
    {
     "data": {
      "text/plain": [
       "Country                    0\n",
       "Year                       0\n",
       "No. of cases_estimated     0\n",
       "No. of deaths_estimated    0\n",
       "No. of cases_median        0\n",
       "No. of cases_min           0\n",
       "No. of cases_max           0\n",
       "No. of deaths_median       0\n",
       "No. of deaths_min          0\n",
       "No. of deaths_max          0\n",
       "WHO Region                 0\n",
       "No. of cases_reported      0\n",
       "No. of deaths_reported     0\n",
       "No. of cases               0\n",
       "dtype: int64"
      ]
     },
     "execution_count": 22,
     "metadata": {},
     "output_type": "execute_result"
    }
   ],
   "source": [
    "#Check the mising data. We are interested in how many missing data are present in each column\n",
    "dataframe.isnull().sum()"
   ]
  },
  {
   "cell_type": "code",
   "execution_count": 76,
   "id": "53af0cf6-8881-48db-815c-30caf951a3fd",
   "metadata": {},
   "outputs": [],
   "source": [
    "# Define malaria severity levels based on quantiles\n",
    "dataframe['malaria_severity'] = pd.qcut(dataframe['No. of cases'], q=3, labels=['low', 'medium', 'high'])"
   ]
  },
  {
   "cell_type": "code",
   "execution_count": 77,
   "id": "d74b5c17-6f3c-4af1-bdab-df8b491a496b",
   "metadata": {},
   "outputs": [
    {
     "data": {
      "text/plain": [
       "['low', 'medium', 'high']\n",
       "Categories (3, object): ['low' < 'medium' < 'high']"
      ]
     },
     "execution_count": 77,
     "metadata": {},
     "output_type": "execute_result"
    }
   ],
   "source": [
    "dataframe['malaria_severity'].unique()"
   ]
  },
  {
   "cell_type": "code",
   "execution_count": 79,
   "id": "846234b9-57b4-49df-9dd7-574995b08a16",
   "metadata": {},
   "outputs": [
    {
     "data": {
      "text/plain": [
       "['low', 'medium', 'high', 'low', 'high', ..., 'medium', 'high', 'medium', 'medium', 'medium']\n",
       "Length: 344\n",
       "Categories (3, object): ['low' < 'medium' < 'high']"
      ]
     },
     "execution_count": 79,
     "metadata": {},
     "output_type": "execute_result"
    }
   ],
   "source": [
    "labels=pd.Categorical(dataframe['malaria_severity'])\n",
    "labels"
   ]
  },
  {
   "cell_type": "code",
   "execution_count": 80,
   "id": "4e0c1d19-3f4d-44f4-a62c-66822d5d4435",
   "metadata": {},
   "outputs": [
    {
     "data": {
      "text/html": [
       "<div>\n",
       "<style scoped>\n",
       "    .dataframe tbody tr th:only-of-type {\n",
       "        vertical-align: middle;\n",
       "    }\n",
       "\n",
       "    .dataframe tbody tr th {\n",
       "        vertical-align: top;\n",
       "    }\n",
       "\n",
       "    .dataframe thead th {\n",
       "        text-align: right;\n",
       "    }\n",
       "</style>\n",
       "<table border=\"1\" class=\"dataframe\">\n",
       "  <thead>\n",
       "    <tr style=\"text-align: right;\">\n",
       "      <th></th>\n",
       "      <th>Country</th>\n",
       "      <th>Year</th>\n",
       "      <th>No. of cases_estimated</th>\n",
       "      <th>No. of deaths_estimated</th>\n",
       "      <th>No. of cases_median</th>\n",
       "      <th>No. of cases_min</th>\n",
       "      <th>No. of cases_max</th>\n",
       "      <th>No. of deaths_median</th>\n",
       "      <th>No. of deaths_min</th>\n",
       "      <th>No. of deaths_max</th>\n",
       "      <th>WHO Region</th>\n",
       "      <th>No. of cases_reported</th>\n",
       "      <th>No. of deaths_reported</th>\n",
       "      <th>No. of cases</th>\n",
       "      <th>malaria_severity</th>\n",
       "    </tr>\n",
       "  </thead>\n",
       "  <tbody>\n",
       "    <tr>\n",
       "      <th>0</th>\n",
       "      <td>Algeria</td>\n",
       "      <td>2017</td>\n",
       "      <td>0</td>\n",
       "      <td>0</td>\n",
       "      <td>0</td>\n",
       "      <td>0.0</td>\n",
       "      <td>0.0</td>\n",
       "      <td>0</td>\n",
       "      <td>0.0</td>\n",
       "      <td>0.0</td>\n",
       "      <td>Africa</td>\n",
       "      <td>0.0</td>\n",
       "      <td>0.0</td>\n",
       "      <td>0.00</td>\n",
       "      <td>low</td>\n",
       "    </tr>\n",
       "    <tr>\n",
       "      <th>1</th>\n",
       "      <td>Angola</td>\n",
       "      <td>2017</td>\n",
       "      <td>4615605[3106000-6661000]</td>\n",
       "      <td>13316[9970-16600]</td>\n",
       "      <td>4615605</td>\n",
       "      <td>3106000.0</td>\n",
       "      <td>6661000.0</td>\n",
       "      <td>13316</td>\n",
       "      <td>9970.0</td>\n",
       "      <td>16600.0</td>\n",
       "      <td>Africa</td>\n",
       "      <td>3874892.0</td>\n",
       "      <td>13967.0</td>\n",
       "      <td>228.91</td>\n",
       "      <td>medium</td>\n",
       "    </tr>\n",
       "    <tr>\n",
       "      <th>2</th>\n",
       "      <td>Benin</td>\n",
       "      <td>2017</td>\n",
       "      <td>4111699[2774000-6552000]</td>\n",
       "      <td>7328[5740-8920]</td>\n",
       "      <td>4111699</td>\n",
       "      <td>2774000.0</td>\n",
       "      <td>6552000.0</td>\n",
       "      <td>7328</td>\n",
       "      <td>5740.0</td>\n",
       "      <td>8920.0</td>\n",
       "      <td>Africa</td>\n",
       "      <td>1573163.0</td>\n",
       "      <td>2182.0</td>\n",
       "      <td>399.56</td>\n",
       "      <td>high</td>\n",
       "    </tr>\n",
       "    <tr>\n",
       "      <th>3</th>\n",
       "      <td>Botswana</td>\n",
       "      <td>2017</td>\n",
       "      <td>2989[2300-4200]</td>\n",
       "      <td>7[0-20]</td>\n",
       "      <td>2989</td>\n",
       "      <td>2300.0</td>\n",
       "      <td>4200.0</td>\n",
       "      <td>7</td>\n",
       "      <td>0.0</td>\n",
       "      <td>20.0</td>\n",
       "      <td>Africa</td>\n",
       "      <td>1900.0</td>\n",
       "      <td>17.0</td>\n",
       "      <td>2.05</td>\n",
       "      <td>low</td>\n",
       "    </tr>\n",
       "    <tr>\n",
       "      <th>4</th>\n",
       "      <td>Burkina Faso</td>\n",
       "      <td>2017</td>\n",
       "      <td>7907562[5645000-11330000]</td>\n",
       "      <td>27791[25100-30500]</td>\n",
       "      <td>7907562</td>\n",
       "      <td>5645000.0</td>\n",
       "      <td>11330000.0</td>\n",
       "      <td>27791</td>\n",
       "      <td>25100.0</td>\n",
       "      <td>30500.0</td>\n",
       "      <td>Africa</td>\n",
       "      <td>10225459.0</td>\n",
       "      <td>4144.0</td>\n",
       "      <td>399.94</td>\n",
       "      <td>high</td>\n",
       "    </tr>\n",
       "  </tbody>\n",
       "</table>\n",
       "</div>"
      ],
      "text/plain": [
       "        Country  Year     No. of cases_estimated No. of deaths_estimated  \\\n",
       "0       Algeria  2017                          0                       0   \n",
       "1        Angola  2017   4615605[3106000-6661000]       13316[9970-16600]   \n",
       "2         Benin  2017   4111699[2774000-6552000]         7328[5740-8920]   \n",
       "3      Botswana  2017            2989[2300-4200]                 7[0-20]   \n",
       "4  Burkina Faso  2017  7907562[5645000-11330000]      27791[25100-30500]   \n",
       "\n",
       "   No. of cases_median  No. of cases_min  No. of cases_max  \\\n",
       "0                    0               0.0               0.0   \n",
       "1              4615605         3106000.0         6661000.0   \n",
       "2              4111699         2774000.0         6552000.0   \n",
       "3                 2989            2300.0            4200.0   \n",
       "4              7907562         5645000.0        11330000.0   \n",
       "\n",
       "   No. of deaths_median  No. of deaths_min  No. of deaths_max WHO Region  \\\n",
       "0                     0                0.0                0.0     Africa   \n",
       "1                 13316             9970.0            16600.0     Africa   \n",
       "2                  7328             5740.0             8920.0     Africa   \n",
       "3                     7                0.0               20.0     Africa   \n",
       "4                 27791            25100.0            30500.0     Africa   \n",
       "\n",
       "   No. of cases_reported  No. of deaths_reported  No. of cases  \\\n",
       "0                    0.0                     0.0          0.00   \n",
       "1              3874892.0                 13967.0        228.91   \n",
       "2              1573163.0                  2182.0        399.56   \n",
       "3                 1900.0                    17.0          2.05   \n",
       "4             10225459.0                  4144.0        399.94   \n",
       "\n",
       "  malaria_severity  \n",
       "0              low  \n",
       "1           medium  \n",
       "2             high  \n",
       "3              low  \n",
       "4             high  "
      ]
     },
     "execution_count": 80,
     "metadata": {},
     "output_type": "execute_result"
    }
   ],
   "source": [
    "dataframe.head()"
   ]
  },
  {
   "cell_type": "code",
   "execution_count": 81,
   "id": "5c5ece88-7e53-441f-9632-fe0b685f39de",
   "metadata": {},
   "outputs": [
    {
     "data": {
      "text/plain": [
       "malaria_severity\n",
       "low       115\n",
       "high      115\n",
       "medium    114\n",
       "Name: count, dtype: int64"
      ]
     },
     "execution_count": 81,
     "metadata": {},
     "output_type": "execute_result"
    }
   ],
   "source": [
    "#class distribution\n",
    "dataframe['malaria_severity'].value_counts()"
   ]
  },
  {
   "cell_type": "code",
   "execution_count": 82,
   "id": "4a5467e0-1878-4086-b1a9-32fca25a5af6",
   "metadata": {},
   "outputs": [
    {
     "data": {
      "text/html": [
       "<div>\n",
       "<style scoped>\n",
       "    .dataframe tbody tr th:only-of-type {\n",
       "        vertical-align: middle;\n",
       "    }\n",
       "\n",
       "    .dataframe tbody tr th {\n",
       "        vertical-align: top;\n",
       "    }\n",
       "\n",
       "    .dataframe thead th {\n",
       "        text-align: right;\n",
       "    }\n",
       "</style>\n",
       "<table border=\"1\" class=\"dataframe\">\n",
       "  <thead>\n",
       "    <tr style=\"text-align: right;\">\n",
       "      <th></th>\n",
       "      <th>Year</th>\n",
       "      <th>No. of cases_median</th>\n",
       "      <th>No. of cases_min</th>\n",
       "      <th>No. of cases_max</th>\n",
       "      <th>No. of deaths_median</th>\n",
       "      <th>No. of deaths_min</th>\n",
       "      <th>No. of deaths_max</th>\n",
       "      <th>No. of cases_reported</th>\n",
       "      <th>No. of deaths_reported</th>\n",
       "      <th>No. of cases</th>\n",
       "    </tr>\n",
       "  </thead>\n",
       "  <tbody>\n",
       "    <tr>\n",
       "      <th>Year</th>\n",
       "      <td>1.000000</td>\n",
       "      <td>-0.006706</td>\n",
       "      <td>-0.010905</td>\n",
       "      <td>-0.010330</td>\n",
       "      <td>-0.059600</td>\n",
       "      <td>-0.054717</td>\n",
       "      <td>-0.072767</td>\n",
       "      <td>0.334277</td>\n",
       "      <td>-0.046628</td>\n",
       "      <td>-0.058154</td>\n",
       "    </tr>\n",
       "    <tr>\n",
       "      <th>No. of cases_median</th>\n",
       "      <td>-0.006706</td>\n",
       "      <td>1.000000</td>\n",
       "      <td>0.996435</td>\n",
       "      <td>0.990642</td>\n",
       "      <td>0.967110</td>\n",
       "      <td>0.955784</td>\n",
       "      <td>0.955634</td>\n",
       "      <td>0.448713</td>\n",
       "      <td>0.393368</td>\n",
       "      <td>0.354547</td>\n",
       "    </tr>\n",
       "    <tr>\n",
       "      <th>No. of cases_min</th>\n",
       "      <td>-0.010905</td>\n",
       "      <td>0.996435</td>\n",
       "      <td>1.000000</td>\n",
       "      <td>0.976720</td>\n",
       "      <td>0.966556</td>\n",
       "      <td>0.959876</td>\n",
       "      <td>0.942677</td>\n",
       "      <td>0.424034</td>\n",
       "      <td>0.370092</td>\n",
       "      <td>0.354244</td>\n",
       "    </tr>\n",
       "    <tr>\n",
       "      <th>No. of cases_max</th>\n",
       "      <td>-0.010330</td>\n",
       "      <td>0.990642</td>\n",
       "      <td>0.976720</td>\n",
       "      <td>1.000000</td>\n",
       "      <td>0.955188</td>\n",
       "      <td>0.935686</td>\n",
       "      <td>0.967878</td>\n",
       "      <td>0.469316</td>\n",
       "      <td>0.414736</td>\n",
       "      <td>0.348234</td>\n",
       "    </tr>\n",
       "    <tr>\n",
       "      <th>No. of deaths_median</th>\n",
       "      <td>-0.059600</td>\n",
       "      <td>0.967110</td>\n",
       "      <td>0.966556</td>\n",
       "      <td>0.955188</td>\n",
       "      <td>1.000000</td>\n",
       "      <td>0.995590</td>\n",
       "      <td>0.980604</td>\n",
       "      <td>0.414644</td>\n",
       "      <td>0.438436</td>\n",
       "      <td>0.403092</td>\n",
       "    </tr>\n",
       "    <tr>\n",
       "      <th>No. of deaths_min</th>\n",
       "      <td>-0.054717</td>\n",
       "      <td>0.955784</td>\n",
       "      <td>0.959876</td>\n",
       "      <td>0.935686</td>\n",
       "      <td>0.995590</td>\n",
       "      <td>1.000000</td>\n",
       "      <td>0.960762</td>\n",
       "      <td>0.421528</td>\n",
       "      <td>0.438950</td>\n",
       "      <td>0.422848</td>\n",
       "    </tr>\n",
       "    <tr>\n",
       "      <th>No. of deaths_max</th>\n",
       "      <td>-0.072767</td>\n",
       "      <td>0.955634</td>\n",
       "      <td>0.942677</td>\n",
       "      <td>0.967878</td>\n",
       "      <td>0.980604</td>\n",
       "      <td>0.960762</td>\n",
       "      <td>1.000000</td>\n",
       "      <td>0.403160</td>\n",
       "      <td>0.422058</td>\n",
       "      <td>0.368506</td>\n",
       "    </tr>\n",
       "    <tr>\n",
       "      <th>No. of cases_reported</th>\n",
       "      <td>0.334277</td>\n",
       "      <td>0.448713</td>\n",
       "      <td>0.424034</td>\n",
       "      <td>0.469316</td>\n",
       "      <td>0.414644</td>\n",
       "      <td>0.421528</td>\n",
       "      <td>0.403160</td>\n",
       "      <td>1.000000</td>\n",
       "      <td>0.546821</td>\n",
       "      <td>0.315581</td>\n",
       "    </tr>\n",
       "    <tr>\n",
       "      <th>No. of deaths_reported</th>\n",
       "      <td>-0.046628</td>\n",
       "      <td>0.393368</td>\n",
       "      <td>0.370092</td>\n",
       "      <td>0.414736</td>\n",
       "      <td>0.438436</td>\n",
       "      <td>0.438950</td>\n",
       "      <td>0.422058</td>\n",
       "      <td>0.546821</td>\n",
       "      <td>1.000000</td>\n",
       "      <td>0.281062</td>\n",
       "    </tr>\n",
       "    <tr>\n",
       "      <th>No. of cases</th>\n",
       "      <td>-0.058154</td>\n",
       "      <td>0.354547</td>\n",
       "      <td>0.354244</td>\n",
       "      <td>0.348234</td>\n",
       "      <td>0.403092</td>\n",
       "      <td>0.422848</td>\n",
       "      <td>0.368506</td>\n",
       "      <td>0.315581</td>\n",
       "      <td>0.281062</td>\n",
       "      <td>1.000000</td>\n",
       "    </tr>\n",
       "  </tbody>\n",
       "</table>\n",
       "</div>"
      ],
      "text/plain": [
       "                            Year  No. of cases_median  No. of cases_min  \\\n",
       "Year                    1.000000            -0.006706         -0.010905   \n",
       "No. of cases_median    -0.006706             1.000000          0.996435   \n",
       "No. of cases_min       -0.010905             0.996435          1.000000   \n",
       "No. of cases_max       -0.010330             0.990642          0.976720   \n",
       "No. of deaths_median   -0.059600             0.967110          0.966556   \n",
       "No. of deaths_min      -0.054717             0.955784          0.959876   \n",
       "No. of deaths_max      -0.072767             0.955634          0.942677   \n",
       "No. of cases_reported   0.334277             0.448713          0.424034   \n",
       "No. of deaths_reported -0.046628             0.393368          0.370092   \n",
       "No. of cases           -0.058154             0.354547          0.354244   \n",
       "\n",
       "                        No. of cases_max  No. of deaths_median  \\\n",
       "Year                           -0.010330             -0.059600   \n",
       "No. of cases_median             0.990642              0.967110   \n",
       "No. of cases_min                0.976720              0.966556   \n",
       "No. of cases_max                1.000000              0.955188   \n",
       "No. of deaths_median            0.955188              1.000000   \n",
       "No. of deaths_min               0.935686              0.995590   \n",
       "No. of deaths_max               0.967878              0.980604   \n",
       "No. of cases_reported           0.469316              0.414644   \n",
       "No. of deaths_reported          0.414736              0.438436   \n",
       "No. of cases                    0.348234              0.403092   \n",
       "\n",
       "                        No. of deaths_min  No. of deaths_max  \\\n",
       "Year                            -0.054717          -0.072767   \n",
       "No. of cases_median              0.955784           0.955634   \n",
       "No. of cases_min                 0.959876           0.942677   \n",
       "No. of cases_max                 0.935686           0.967878   \n",
       "No. of deaths_median             0.995590           0.980604   \n",
       "No. of deaths_min                1.000000           0.960762   \n",
       "No. of deaths_max                0.960762           1.000000   \n",
       "No. of cases_reported            0.421528           0.403160   \n",
       "No. of deaths_reported           0.438950           0.422058   \n",
       "No. of cases                     0.422848           0.368506   \n",
       "\n",
       "                        No. of cases_reported  No. of deaths_reported  \\\n",
       "Year                                 0.334277               -0.046628   \n",
       "No. of cases_median                  0.448713                0.393368   \n",
       "No. of cases_min                     0.424034                0.370092   \n",
       "No. of cases_max                     0.469316                0.414736   \n",
       "No. of deaths_median                 0.414644                0.438436   \n",
       "No. of deaths_min                    0.421528                0.438950   \n",
       "No. of deaths_max                    0.403160                0.422058   \n",
       "No. of cases_reported                1.000000                0.546821   \n",
       "No. of deaths_reported               0.546821                1.000000   \n",
       "No. of cases                         0.315581                0.281062   \n",
       "\n",
       "                        No. of cases  \n",
       "Year                       -0.058154  \n",
       "No. of cases_median         0.354547  \n",
       "No. of cases_min            0.354244  \n",
       "No. of cases_max            0.348234  \n",
       "No. of deaths_median        0.403092  \n",
       "No. of deaths_min           0.422848  \n",
       "No. of deaths_max           0.368506  \n",
       "No. of cases_reported       0.315581  \n",
       "No. of deaths_reported      0.281062  \n",
       "No. of cases                1.000000  "
      ]
     },
     "execution_count": 82,
     "metadata": {},
     "output_type": "execute_result"
    }
   ],
   "source": [
    "#check the correlation for the features\n",
    "#First, select only numeric columns for correlation\n",
    "numeric_columns = dataframe.select_dtypes(include=['int64', 'float64'])\n",
    "numeric_columns.corr()"
   ]
  },
  {
   "cell_type": "code",
   "execution_count": 83,
   "id": "3cbba0e1-6fcc-435d-ae27-fc8116423c2a",
   "metadata": {},
   "outputs": [
    {
     "data": {
      "text/plain": [
       "<Axes: >"
      ]
     },
     "execution_count": 83,
     "metadata": {},
     "output_type": "execute_result"
    },
    {
     "data": {
      "image/png": "[encoded data removed]",
      "text/plain": [
       "<Figure size 640x480 with 2 Axes>"
      ]
     },
     "metadata": {},
     "output_type": "display_data"
    }
   ],
   "source": [
    "#lets visualize the correlation matrix using seaborn\n",
    "sns.heatmap(numeric_columns.corr(),cmap='coolwarm')"
   ]
  },
  {
   "cell_type": "code",
   "execution_count": 114,
   "id": "aaa28928-7af7-448c-bbf1-9b20b5dddc48",
   "metadata": {},
   "outputs": [],
   "source": [
    "# Target variable\n",
    "y = dataframe['malaria_severity']"
   ]
  },
  {
   "cell_type": "code",
   "execution_count": 115,
   "id": "ea774559-7a53-4411-9c43-095b56ace822",
   "metadata": {},
   "outputs": [],
   "source": [
    "# Features: drop non-numeric or target/leaky columns\n",
    "features = dataframe.drop(columns=['Country', 'WHO Region', 'malaria_severity', 'No. of cases'])"
   ]
  },
  {
   "cell_type": "code",
   "execution_count": 116,
   "id": "a4347110-9885-4bde-9071-7a416ef7bcb0",
   "metadata": {},
   "outputs": [],
   "source": [
    "# Select numeric features only\n",
    "X = features.select_dtypes(include=['int64', 'float64'])"
   ]
  },
  {
   "cell_type": "code",
   "execution_count": 117,
   "id": "d66f4156-87fc-4787-bc50-3961223839f5",
   "metadata": {},
   "outputs": [],
   "source": [
    "# Encode target labels\n",
    "label_encoder = LabelEncoder()\n",
    "y_encoded = label_encoder.fit_transform(y)"
   ]
  },
  {
   "cell_type": "code",
   "execution_count": 118,
   "id": "77884dfe-9614-4f6b-b7b0-13871e863508",
   "metadata": {},
   "outputs": [],
   "source": [
    "# Split data\n",
    "# train test ratio 80:20\n",
    "from sklearn.model_selection import train_test_split\n",
    "X_train, X_test, y_train, y_test = train_test_split(\n",
    "    X, y_encoded, test_size=0.2, stratify=y_encoded, random_state=42\n",
    ")"
   ]
  },
  {
   "cell_type": "code",
   "execution_count": 123,
   "id": "0f748eb3-acc8-4d5b-a1bd-68cccbb91110",
   "metadata": {},
   "outputs": [
    {
     "data": {
      "text/plain": [
       "(275, 9)"
      ]
     },
     "execution_count": 123,
     "metadata": {},
     "output_type": "execute_result"
    }
   ],
   "source": [
    "X_train.shape"
   ]
  },
  {
   "cell_type": "code",
   "execution_count": 127,
   "id": "435d8a35-4019-4df7-8dc3-ed3d4ac39761",
   "metadata": {},
   "outputs": [
    {
     "data": {
      "text/plain": [
       "(275,)"
      ]
     },
     "execution_count": 127,
     "metadata": {},
     "output_type": "execute_result"
    }
   ],
   "source": [
    "y_train.shape"
   ]
  },
  {
   "cell_type": "code",
   "execution_count": 131,
   "id": "3cebdb45-5171-449f-a1e0-8cd53ae74688",
   "metadata": {},
   "outputs": [
    {
     "data": {
      "text/plain": [
       "(69, 9)"
      ]
     },
     "execution_count": 131,
     "metadata": {},
     "output_type": "execute_result"
    }
   ],
   "source": [
    "X_test.shape"
   ]
  },
  {
   "cell_type": "code",
   "execution_count": 132,
   "id": "9cd1ce76-1ad3-4456-9e54-e71e49c2e88c",
   "metadata": {},
   "outputs": [
    {
     "data": {
      "text/plain": [
       "(69,)"
      ]
     },
     "execution_count": 132,
     "metadata": {},
     "output_type": "execute_result"
    }
   ],
   "source": [
    "y_test.shape"
   ]
  },
  {
   "cell_type": "code",
   "execution_count": 133,
   "id": "f635dd28-80fd-447e-a772-ed07d77fd107",
   "metadata": {},
   "outputs": [],
   "source": [
    "# Scale features\n",
    "from sklearn.preprocessing import MinMaxScaler\n",
    "scaler = MinMaxScaler()\n",
    "X_train_scaled = scaler.fit_transform(X_train)\n",
    "X_test_scaled = scaler.transform(X_test)"
   ]
  },
  {
   "cell_type": "code",
   "execution_count": 134,
   "id": "fb8c277f-9157-4fcb-93b3-48dbed178009",
   "metadata": {},
   "outputs": [
    {
     "data": {
      "text/plain": [
       "0.4285714285714448"
      ]
     },
     "execution_count": 134,
     "metadata": {},
     "output_type": "execute_result"
    }
   ],
   "source": [
    "X_train_scaled[0,0]"
   ]
  },
  {
   "cell_type": "code",
   "execution_count": 135,
   "id": "c7ac1715-3cad-4714-806b-e04a89d8eb8c",
   "metadata": {},
   "outputs": [
    {
     "data": {
      "text/plain": [
       "2013"
      ]
     },
     "execution_count": 135,
     "metadata": {},
     "output_type": "execute_result"
    }
   ],
   "source": [
    "X_train.iloc[0,0]"
   ]
  },
  {
   "cell_type": "code",
   "execution_count": 129,
   "id": "cef4a84c-67ee-40ca-893b-46216280775b",
   "metadata": {},
   "outputs": [
    {
     "data": {
      "text/html": [
       "<style>#sk-container-id-6 {color: black;}#sk-container-id-6 pre{padding: 0;}#sk-container-id-6 div.sk-toggleable {background-color: white;}#sk-container-id-6 label.sk-toggleable__label {cursor: pointer;display: block;width: 100%;margin-bottom: 0;padding: 0.3em;box-sizing: border-box;text-align: center;}#sk-container-id-6 label.sk-toggleable__label-arrow:before {content: \"▸\";float: left;margin-right: 0.25em;color: #696969;}#sk-container-id-6 label.sk-toggleable__label-arrow:hover:before {color: black;}#sk-container-id-6 div.sk-estimator:hover label.sk-toggleable__label-arrow:before {color: black;}#sk-container-id-6 div.sk-toggleable__content {max-height: 0;max-width: 0;overflow: hidden;text-align: left;background-color: #f0f8ff;}#sk-container-id-6 div.sk-toggleable__content pre {margin: 0.2em;color: black;border-radius: 0.25em;background-color: #f0f8ff;}#sk-container-id-6 input.sk-toggleable__control:checked~div.sk-toggleable__content {max-height: 200px;max-width: 100%;overflow: auto;}#sk-container-id-6 input.sk-toggleable__control:checked~label.sk-toggleable__label-arrow:before {content: \"▾\";}#sk-container-id-6 div.sk-estimator input.sk-toggleable__control:checked~label.sk-toggleable__label {background-color: #d4ebff;}#sk-container-id-6 div.sk-label input.sk-toggleable__control:checked~label.sk-toggleable__label {background-color: #d4ebff;}#sk-container-id-6 input.sk-hidden--visually {border: 0;clip: rect(1px 1px 1px 1px);clip: rect(1px, 1px, 1px, 1px);height: 1px;margin: -1px;overflow: hidden;padding: 0;position: absolute;width: 1px;}#sk-container-id-6 div.sk-estimator {font-family: monospace;background-color: #f0f8ff;border: 1px dotted black;border-radius: 0.25em;box-sizing: border-box;margin-bottom: 0.5em;}#sk-container-id-6 div.sk-estimator:hover {background-color: #d4ebff;}#sk-container-id-6 div.sk-parallel-item::after {content: \"\";width: 100%;border-bottom: 1px solid gray;flex-grow: 1;}#sk-container-id-6 div.sk-label:hover label.sk-toggleable__label {background-color: #d4ebff;}#sk-container-id-6 div.sk-serial::before {content: \"\";position: absolute;border-left: 1px solid gray;box-sizing: border-box;top: 0;bottom: 0;left: 50%;z-index: 0;}#sk-container-id-6 div.sk-serial {display: flex;flex-direction: column;align-items: center;background-color: white;padding-right: 0.2em;padding-left: 0.2em;position: relative;}#sk-container-id-6 div.sk-item {position: relative;z-index: 1;}#sk-container-id-6 div.sk-parallel {display: flex;align-items: stretch;justify-content: center;background-color: white;position: relative;}#sk-container-id-6 div.sk-item::before, #sk-container-id-6 div.sk-parallel-item::before {content: \"\";position: absolute;border-left: 1px solid gray;box-sizing: border-box;top: 0;bottom: 0;left: 50%;z-index: -1;}#sk-container-id-6 div.sk-parallel-item {display: flex;flex-direction: column;z-index: 1;position: relative;background-color: white;}#sk-container-id-6 div.sk-parallel-item:first-child::after {align-self: flex-end;width: 50%;}#sk-container-id-6 div.sk-parallel-item:last-child::after {align-self: flex-start;width: 50%;}#sk-container-id-6 div.sk-parallel-item:only-child::after {width: 0;}#sk-container-id-6 div.sk-dashed-wrapped {border: 1px dashed gray;margin: 0 0.4em 0.5em 0.4em;box-sizing: border-box;padding-bottom: 0.4em;background-color: white;}#sk-container-id-6 div.sk-label label {font-family: monospace;font-weight: bold;display: inline-block;line-height: 1.2em;}#sk-container-id-6 div.sk-label-container {text-align: center;}#sk-container-id-6 div.sk-container {/* jupyter's `normalize.less` sets `[hidden] { display: none; }` but bootstrap.min.css set `[hidden] { display: none !important; }` so we also need the `!important` here to be able to override the default hidden behavior on the sphinx rendered scikit-learn.org. See: https://github.com/scikit-learn/scikit-learn/issues/21755 */display: inline-block !important;position: relative;}#sk-container-id-6 div.sk-text-repr-fallback {display: none;}</style><div id=\"sk-container-id-6\" class=\"sk-top-container\"><div class=\"sk-text-repr-fallback\"><pre>RandomForestClassifier(random_state=42)</pre><b>In a Jupyter environment, please rerun this cell to show the HTML representation or trust the notebook. <br />On GitHub, the HTML representation is unable to render, please try loading this page with nbviewer.org.</b></div><div class=\"sk-container\" hidden><div class=\"sk-item\"><div class=\"sk-estimator sk-toggleable\"><input class=\"sk-toggleable__control sk-hidden--visually\" id=\"sk-estimator-id-6\" type=\"checkbox\" checked><label for=\"sk-estimator-id-6\" class=\"sk-toggleable__label sk-toggleable__label-arrow\">RandomForestClassifier</label><div class=\"sk-toggleable__content\"><pre>RandomForestClassifier(random_state=42)</pre></div></div></div></div></div>"
      ],
      "text/plain": [
       "RandomForestClassifier(random_state=42)"
      ]
     },
     "execution_count": 129,
     "metadata": {},
     "output_type": "execute_result"
    }
   ],
   "source": [
    "# Train RandomForest\n",
    "from sklearn.ensemble import RandomForestClassifier\n",
    "clf = RandomForestClassifier(random_state=42)\n",
    "clf.fit(X_train_scaled, y_train)"
   ]
  },
  {
   "cell_type": "code",
   "execution_count": 136,
   "id": "684c1038-979e-4a84-a355-2aefc6a76aba",
   "metadata": {},
   "outputs": [],
   "source": [
    "# Predict & evaluate\n",
    "y_pred = clf.predict(X_test_scaled)"
   ]
  },
  {
   "cell_type": "code",
   "execution_count": 137,
   "id": "11a9be9f-0f0d-49c8-bb74-e08402d04b54",
   "metadata": {},
   "outputs": [
    {
     "data": {
      "text/plain": [
       "array([0, 2, 1])"
      ]
     },
     "execution_count": 137,
     "metadata": {},
     "output_type": "execute_result"
    }
   ],
   "source": [
    "y_pred[0:3]"
   ]
  },
  {
   "cell_type": "code",
   "execution_count": 138,
   "id": "ea82b070-25c6-4786-8997-0766864400cf",
   "metadata": {},
   "outputs": [
    {
     "data": {
      "text/plain": [
       "array([0, 2, 1])"
      ]
     },
     "execution_count": 138,
     "metadata": {},
     "output_type": "execute_result"
    }
   ],
   "source": [
    "y_test[0:3]"
   ]
  },
  {
   "cell_type": "code",
   "execution_count": 139,
   "id": "80dbeb50-fe7b-4d3b-aff6-04b4d712e45b",
   "metadata": {},
   "outputs": [
    {
     "data": {
      "text/plain": [
       "array([2010, 2011, 2012, 2013, 2014, 2015, 2016, 2017])"
      ]
     },
     "execution_count": 139,
     "metadata": {},
     "output_type": "execute_result"
    }
   ],
   "source": [
    "classes"
   ]
  },
  {
   "cell_type": "code",
   "execution_count": null,
   "id": "23debc69-db5a-4bd2-8a3c-11ca5655954d",
   "metadata": {},
   "outputs": [],
   "source": [
    "#Evaluating the model\n",
    "#The following metrics will be used\n",
    "\n",
    "#-accuracy\n",
    "#-f1 score\n",
    "#-recall\n",
    "#-precision\n",
    "#-confusion matrix"
   ]
  },
  {
   "cell_type": "code",
   "execution_count": 148,
   "id": "b85950e9-3a77-4098-869b-d88b69beb470",
   "metadata": {},
   "outputs": [],
   "source": [
    "# import the metrics\n",
    "from sklearn.metrics import confusion_matrix, ConfusionMatrixDisplay\n",
    "from sklearn.metrics import balanced_accuracy_score,f1_score,precision_score, recall_score"
   ]
  },
  {
   "cell_type": "code",
   "execution_count": 141,
   "id": "7c973f22-9318-4782-b7a5-bff7868127f6",
   "metadata": {
    "scrolled": true
   },
   "outputs": [
    {
     "name": "stdout",
     "output_type": "stream",
     "text": [
      "balanced accuracy: 0.94\n"
     ]
    }
   ],
   "source": [
    "#balanced accuracy\n",
    "balanced_accuracy=balanced_accuracy_score(y_test,y_pred)\n",
    "balanced_accuracy=round(balanced_accuracy,2)\n",
    "print('balanced accuracy:',balanced_accuracy)"
   ]
  },
  {
   "cell_type": "code",
   "execution_count": 142,
   "id": "cd84aac5-da66-494c-8807-fba65a905e22",
   "metadata": {},
   "outputs": [
    {
     "name": "stdout",
     "output_type": "stream",
     "text": [
      "f1score: 0.94\n"
     ]
    }
   ],
   "source": [
    "#f1score\n",
    "f1score=f1_score(y_test,y_pred,average='weighted')\n",
    "f1score=round(f1score,2)\n",
    "print('f1score:',f1score)"
   ]
  },
  {
   "cell_type": "code",
   "execution_count": 143,
   "id": "fe7671ce-db99-4b7a-9214-c054b4f1bad9",
   "metadata": {},
   "outputs": [
    {
     "name": "stdout",
     "output_type": "stream",
     "text": [
      "precision: 0.94\n"
     ]
    }
   ],
   "source": [
    "#precision \n",
    "precision=precision_score(y_test,y_pred,average='weighted')\n",
    "precision=round(precision,2)\n",
    "print('precision:',precision)"
   ]
  },
  {
   "cell_type": "code",
   "execution_count": 166,
   "id": "c9c16b44-e7fa-4046-a13d-8e2c6f9c9273",
   "metadata": {},
   "outputs": [
    {
     "name": "stdout",
     "output_type": "stream",
     "text": [
      "recall: 0.94\n"
     ]
    }
   ],
   "source": [
    "#recall\n",
    "recall=recall_score(y_test,y_pred,average='weighted')\n",
    "recall=round(recall,2)\n",
    "print('recall:',recall)"
   ]
  },
  {
   "cell_type": "code",
   "execution_count": 168,
   "id": "d19948ff-b644-433f-8a14-6db7c775c498",
   "metadata": {},
   "outputs": [
    {
     "data": {
      "text/plain": [
       "<sklearn.metrics._plot.confusion_matrix.ConfusionMatrixDisplay at 0x7f1596094ed0>"
      ]
     },
     "execution_count": 168,
     "metadata": {},
     "output_type": "execute_result"
    },
    {
     "data": {
      "image/png": "[encoded data removed]",
      "text/plain": [
       "<Figure size 640x480 with 2 Axes>"
      ]
     },
     "metadata": {},
     "output_type": "display_data"
    }
   ],
   "source": [
    "from sklearn.preprocessing import LabelEncoder\n",
    "\n",
    "# Recreate or reuse the label encoder with correct class names\n",
    "le = LabelEncoder()\n",
    "le.fit([\"low\", \"medium\", \"high\"])\n",
    "\n",
    "# Inverse transform numeric predictions to string labels\n",
    "y_test_named = le.inverse_transform(y_test)\n",
    "y_pred_named = le.inverse_transform(y_pred)\n",
    "\n",
    "# Define label order for the plot\n",
    "labels = le.classes_  # ['high', 'low', 'medium'] — depends on how LabelEncoder sorted them\n",
    "\n",
    "# Optional: enforce desired order manually\n",
    "labels = [\"low\", \"medium\", \"high\"]\n",
    "\n",
    "# Generate confusion matrix\n",
    "cm = confusion_matrix(y_test_named, y_pred_named, labels=labels)\n",
    "\n",
    "# Plot the confusion matrix\n",
    "disp = ConfusionMatrixDisplay(confusion_matrix=cm, display_labels=labels)\n",
    "disp.plot(cmap=\"Blues\")\n"
   ]
  },
  {
   "cell_type": "code",
   "execution_count": null,
   "id": "4bf84c82-a072-4789-a828-0357cb542f6f",
   "metadata": {},
   "outputs": [],
   "source": []
  }
 ],
 "metadata": {
  "kernelspec": {
   "display_name": "anaconda-panel-2023.05-py310",
   "language": "python",
   "name": "conda-env-anaconda-panel-2023.05-py310-py"
  },
  "language_info": {
   "codemirror_mode": {
    "name": "ipython",
    "version": 3
   },
   "file_extension": ".py",
   "mimetype": "text/x-python",
   "name": "python",
   "nbconvert_exporter": "python",
   "pygments_lexer": "ipython3",
   "version": "3.11.5"
  }
 },
 "nbformat": 4,
 "nbformat_minor": 5
}
